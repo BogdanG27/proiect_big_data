{
 "cells": [
  {
   "cell_type": "code",
   "execution_count": 1,
   "metadata": {},
   "outputs": [],
   "source": [
    "import yaml\n",
    "import re\n",
    "import subprocess"
   ]
  },
  {
   "cell_type": "code",
   "execution_count": 2,
   "metadata": {},
   "outputs": [],
   "source": [
    "def parse_yaml_script_file(file_path):\n",
    "    with open(file_path) as f:\n",
    "        try:\n",
    "            text = f.read()\n",
    "            parsed_data = yaml.safe_load(text)\n",
    "            return parsed_data\n",
    "        except FileNotFoundError:\n",
    "            print('File not found')\n",
    "            return None\n",
    "        except yaml.YAMLError as exc:\n",
    "            print(exc)\n",
    "            return None"
   ]
  },
  {
   "cell_type": "code",
   "execution_count": 3,
   "metadata": {},
   "outputs": [],
   "source": [
    "def process_steps(steps, initialVariables,variables):\n",
    "    for step in steps:\n",
    "        if 'script' in step:\n",
    "            script_content = step['script']\n",
    "            expanded_script = expand_variables(script_content, variables, initialVariables)\n",
    "            execute_script(expanded_script)\n",
    "        elif 'bash' in step:\n",
    "            bash_command = step['bash']\n",
    "            expanded_bash_command = expand_variables(bash_command, variables, initialVariables)\n",
    "            print(f\"Executing bash command: {expanded_bash_command}\\n\")\n",
    "            update_variable_from_bash(expanded_bash_command, variables)\n",
    "        else:\n",
    "            print(\"Unsupported step type\")\n",
    "\n",
    "def expand_variables(content, variables, initialVariables):\n",
    "    for key in variables:\n",
    "        content = re.sub(fr'\\${{\\s*{{\\s*variables.{key}\\s*}}\\s*}}', str(initialVariables[key]), content)\n",
    "        content = re.sub(fr\"\\$\\(\\s*{key}\\s*\\)\", str(variables[key]), content)\n",
    "    return content\n",
    "\n",
    "def update_variable_from_bash(bash_command, variables):\n",
    "    match = re.search(r\"\\[task\\.setvariable variable=(\\w+)\\](\\w+)\", bash_command)\n",
    "    if match:\n",
    "        variable_name = match.group(1)\n",
    "        new_value = match.group(2)\n",
    "        for key in variables:\n",
    "            if key == variable_name:\n",
    "                variables[key] = new_value\n",
    "\n",
    "def execute_script(script):\n",
    "    stdout, stderr, returncode = run_docker_command(\"docker build -t bash-docker .\")\n",
    "    print(f\"Build Output:\\n{stdout}\")\n",
    "    print(f\"Build Error:\\n{stderr}\")\n",
    "    print(f\"Build Return Code: {returncode}\")\n",
    "    \n",
    "    container_id = run_docker_command(\"docker run -d --rm bash-docker\")[0]\n",
    "    print(container_id)\n",
    "\n",
    "    stdout, stderr, returncode = run_docker_command(f\"docker exec {container_id} /bin/bash -c '{script}'\")\n",
    "\n",
    "    print(f\"Commands: {script}\")\n",
    "    print(f\"Output:\\n{stdout}\")\n",
    "    print(f\"Error:\\n{stderr}\")\n",
    "    print(f\"Return Code: {returncode}\")\n",
    "    print(\"=\" * 50)\n",
    "\n",
    "    run_docker_command(\"docker stop {container_id}\")\n",
    "    run_docker_command(\"docker rm {container_id}\")\n",
    "\n",
    "def run_docker_command(command):\n",
    "    result = subprocess.run(command, shell=True, capture_output=True, text=True)\n",
    "    return result.stdout, result.stderr, result.returncode\n",
    "\n",
    "# def execute_bash_command(bash_command):\n",
    "#     # Use subprocess.run() to execute the bash command\n",
    "#     print(subprocess.check_output(['bash','-c', bash_command]))"
   ]
  },
  {
   "cell_type": "code",
   "execution_count": null,
   "metadata": {},
   "outputs": [],
   "source": [
    "yaml_file_path = 'test.yml'\n",
    "parsed_data = parse_yaml_script_file(yaml_file_path)\n",
    "\n",
    "if(parsed_data):\n",
    "    initialVariables = {}\n",
    "    for key in parsed_data.get('variables', []):\n",
    "        initialVariables[key.get('name')] = key.get('value')\n",
    "    variables = initialVariables.copy()\n",
    "\n",
    "    steps = parsed_data.get('steps', [])\n",
    "    process_steps(steps, initialVariables, variables)"
   ]
  }
 ],
 "metadata": {
  "kernelspec": {
   "display_name": "Python 3",
   "language": "python",
   "name": "python3"
  },
  "language_info": {
   "codemirror_mode": {
    "name": "ipython",
    "version": 3
   },
   "file_extension": ".py",
   "mimetype": "text/x-python",
   "name": "python",
   "nbconvert_exporter": "python",
   "pygments_lexer": "ipython3",
   "version": "3.11.3"
  }
 },
 "nbformat": 4,
 "nbformat_minor": 2
}
